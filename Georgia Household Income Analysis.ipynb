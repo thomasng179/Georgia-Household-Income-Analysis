{
 "cells": [
  {
   "cell_type": "markdown",
   "metadata": {},
   "source": [
    "# Georgia Household Income Analysis\n"
   ]
  },
  {
   "cell_type": "markdown",
   "metadata": {},
   "source": [
    "### Project Overview"
   ]
  },
  {
   "cell_type": "markdown",
   "metadata": {},
   "source": [
    "The dataset used is from unitedforalice.org. ALICE stands for Asset Limited, Income Constrained, Employed which represents people living above the Federal Poverty level but still unable to afford basic essentials in Georgia.\n",
    "\n",
    "This project aims to understand how the state of the economy and policies affect households in Georgia by answering the following questions:\n",
    "\n",
    "1. Are households going into ALICE income levels over the years or is it getting better? \n",
    "2. How many households are in the ALICE income level?\n",
    "3. How did covid affect households in Georgia?"
   ]
  },
  {
   "cell_type": "code",
   "execution_count": 2,
   "metadata": {
    "collapsed": true
   },
   "outputs": [],
   "source": [
    "import pandas as pd\n",
    "import numpy as np\n",
    "import matplotlib.pyplot as plt\n",
    "import sklearn\n",
    "from sklearn.model_selection import train_test_split\n",
    "from sklearn.linear_model import LinearRegression\n",
    "from sklearn.feature_selection import RFE"
   ]
  },
  {
   "cell_type": "code",
   "execution_count": 4,
   "metadata": {
    "scrolled": true
   },
   "outputs": [
    {
     "data": {
      "text/html": [
       "<div>\n",
       "<style scoped>\n",
       "    .dataframe tbody tr th:only-of-type {\n",
       "        vertical-align: middle;\n",
       "    }\n",
       "\n",
       "    .dataframe tbody tr th {\n",
       "        vertical-align: top;\n",
       "    }\n",
       "\n",
       "    .dataframe thead th {\n",
       "        text-align: right;\n",
       "    }\n",
       "</style>\n",
       "<table border=\"1\" class=\"dataframe\">\n",
       "  <thead>\n",
       "    <tr style=\"text-align: right;\">\n",
       "      <th></th>\n",
       "      <th>Year</th>\n",
       "      <th>GEO.id2</th>\n",
       "      <th>GEO.display_label</th>\n",
       "      <th>County</th>\n",
       "      <th>State</th>\n",
       "      <th>State Abbr</th>\n",
       "      <th>Households</th>\n",
       "      <th>Poverty Households</th>\n",
       "      <th>ALICE Households</th>\n",
       "      <th>Above ALICE Households</th>\n",
       "      <th>ALICE Threshold - HH under 65</th>\n",
       "      <th>ALICE Threshold - HH 65 years and over</th>\n",
       "      <th>Source: American Community Survey</th>\n",
       "    </tr>\n",
       "  </thead>\n",
       "  <tbody>\n",
       "    <tr>\n",
       "      <th>0</th>\n",
       "      <td>2010</td>\n",
       "      <td>13001</td>\n",
       "      <td>Appling County, Georgia</td>\n",
       "      <td>Appling</td>\n",
       "      <td>Georgia</td>\n",
       "      <td>GA</td>\n",
       "      <td>7145</td>\n",
       "      <td>1328</td>\n",
       "      <td>1570</td>\n",
       "      <td>4247</td>\n",
       "      <td>30000</td>\n",
       "      <td>25000</td>\n",
       "      <td>5-Year</td>\n",
       "    </tr>\n",
       "    <tr>\n",
       "      <th>1</th>\n",
       "      <td>2012</td>\n",
       "      <td>13001</td>\n",
       "      <td>Appling County, Georgia</td>\n",
       "      <td>Appling</td>\n",
       "      <td>Georgia</td>\n",
       "      <td>GA</td>\n",
       "      <td>7047</td>\n",
       "      <td>1298</td>\n",
       "      <td>1955</td>\n",
       "      <td>3794</td>\n",
       "      <td>35000</td>\n",
       "      <td>30000</td>\n",
       "      <td>5-Year</td>\n",
       "    </tr>\n",
       "    <tr>\n",
       "      <th>2</th>\n",
       "      <td>2014</td>\n",
       "      <td>13001</td>\n",
       "      <td>Appling County, Georgia</td>\n",
       "      <td>Appling</td>\n",
       "      <td>Georgia</td>\n",
       "      <td>GA</td>\n",
       "      <td>6878</td>\n",
       "      <td>1457</td>\n",
       "      <td>1953</td>\n",
       "      <td>3468</td>\n",
       "      <td>40000</td>\n",
       "      <td>35000</td>\n",
       "      <td>5-Year</td>\n",
       "    </tr>\n",
       "    <tr>\n",
       "      <th>3</th>\n",
       "      <td>2016</td>\n",
       "      <td>13001</td>\n",
       "      <td>Appling County, Georgia</td>\n",
       "      <td>Appling</td>\n",
       "      <td>Georgia</td>\n",
       "      <td>GA</td>\n",
       "      <td>6711</td>\n",
       "      <td>1393</td>\n",
       "      <td>2024</td>\n",
       "      <td>3294</td>\n",
       "      <td>40000</td>\n",
       "      <td>35000</td>\n",
       "      <td>5-Year</td>\n",
       "    </tr>\n",
       "    <tr>\n",
       "      <th>4</th>\n",
       "      <td>2018</td>\n",
       "      <td>13001</td>\n",
       "      <td>Appling County, Georgia</td>\n",
       "      <td>Appling</td>\n",
       "      <td>Georgia</td>\n",
       "      <td>GA</td>\n",
       "      <td>6682</td>\n",
       "      <td>1478</td>\n",
       "      <td>1962</td>\n",
       "      <td>3242</td>\n",
       "      <td>45000</td>\n",
       "      <td>35000</td>\n",
       "      <td>5-Year</td>\n",
       "    </tr>\n",
       "  </tbody>\n",
       "</table>\n",
       "</div>"
      ],
      "text/plain": [
       "   Year  GEO.id2        GEO.display_label   County    State State Abbr   \n",
       "0  2010    13001  Appling County, Georgia  Appling  Georgia         GA  \\\n",
       "1  2012    13001  Appling County, Georgia  Appling  Georgia         GA   \n",
       "2  2014    13001  Appling County, Georgia  Appling  Georgia         GA   \n",
       "3  2016    13001  Appling County, Georgia  Appling  Georgia         GA   \n",
       "4  2018    13001  Appling County, Georgia  Appling  Georgia         GA   \n",
       "\n",
       "   Households  Poverty Households  ALICE Households  Above ALICE Households   \n",
       "0        7145                1328              1570                    4247  \\\n",
       "1        7047                1298              1955                    3794   \n",
       "2        6878                1457              1953                    3468   \n",
       "3        6711                1393              2024                    3294   \n",
       "4        6682                1478              1962                    3242   \n",
       "\n",
       "   ALICE Threshold - HH under 65  ALICE Threshold - HH 65 years and over   \n",
       "0                          30000                                   25000  \\\n",
       "1                          35000                                   30000   \n",
       "2                          40000                                   35000   \n",
       "3                          40000                                   35000   \n",
       "4                          45000                                   35000   \n",
       "\n",
       "  Source: American Community Survey   \n",
       "0                             5-Year  \n",
       "1                             5-Year  \n",
       "2                             5-Year  \n",
       "3                             5-Year  \n",
       "4                             5-Year  "
      ]
     },
     "metadata": {},
     "output_type": "display_data"
    },
    {
     "name": "stdout",
     "output_type": "stream",
     "text": [
      "(1113, 13)\n"
     ]
    }
   ],
   "source": [
    "#load dataset into pandas dataframe\n",
    "df = pd.read_excel('DataSheet_GA.xlsx', sheet_name = 1)\n",
    "df_final = df.copy()\n",
    "original = df.copy()\n",
    "display(df.head())\n",
    "print(df.shape)"
   ]
  },
  {
   "cell_type": "code",
   "execution_count": 5,
   "metadata": {},
   "outputs": [
    {
     "name": "stdout",
     "output_type": "stream",
     "text": [
      "<class 'pandas.core.frame.DataFrame'>\n",
      "RangeIndex: 1113 entries, 0 to 1112\n",
      "Data columns (total 13 columns):\n",
      " #   Column                                  Non-Null Count  Dtype \n",
      "---  ------                                  --------------  ----- \n",
      " 0   Year                                    1113 non-null   int64 \n",
      " 1   GEO.id2                                 1113 non-null   int64 \n",
      " 2   GEO.display_label                       1113 non-null   object\n",
      " 3   County                                  1113 non-null   object\n",
      " 4   State                                   1113 non-null   object\n",
      " 5   State Abbr                              1113 non-null   object\n",
      " 6   Households                              1113 non-null   int64 \n",
      " 7   Poverty Households                      1113 non-null   int64 \n",
      " 8   ALICE Households                        1113 non-null   int64 \n",
      " 9   Above ALICE Households                  1113 non-null   int64 \n",
      " 10  ALICE Threshold - HH under 65           1113 non-null   int64 \n",
      " 11  ALICE Threshold - HH 65 years and over  1113 non-null   int64 \n",
      " 12  Source: American Community Survey       1113 non-null   object\n",
      "dtypes: int64(8), object(5)\n",
      "memory usage: 113.2+ KB\n",
      "None\n",
      "              Year       GEO.id2     Households  Poverty Households   \n",
      "count  1113.000000   1113.000000    1113.000000         1113.000000  \\\n",
      "mean   2015.714286  13161.490566   23228.770889         3523.130279   \n",
      "std       3.654989     93.029856   51093.282857         6578.079219   \n",
      "min    2010.000000  13001.000000     593.000000          115.000000   \n",
      "25%    2012.000000  13081.000000    4034.000000          866.000000   \n",
      "50%    2016.000000  13161.000000    8279.000000         1552.000000   \n",
      "75%    2019.000000  13243.000000   19116.000000         3261.000000   \n",
      "max    2021.000000  13321.000000  467735.000000        59476.000000   \n",
      "\n",
      "       ALICE Households  Above ALICE Households   \n",
      "count       1113.000000             1113.000000  \\\n",
      "mean        7418.398922            12287.241689   \n",
      "std        16655.743233            28640.821904   \n",
      "min          236.000000              208.000000   \n",
      "25%         1349.000000             1817.000000   \n",
      "50%         2531.000000             4151.000000   \n",
      "75%         5554.000000            10492.000000   \n",
      "max       154094.000000           271330.000000   \n",
      "\n",
      "       ALICE Threshold - HH under 65  ALICE Threshold - HH 65 years and over  \n",
      "count                    1113.000000                             1113.000000  \n",
      "mean                    46922.731357                            38544.474394  \n",
      "std                      9281.051076                             7390.814864  \n",
      "min                     30000.000000                            25000.000000  \n",
      "25%                     40000.000000                            35000.000000  \n",
      "50%                     45000.000000                            35000.000000  \n",
      "75%                     50000.000000                            40000.000000  \n",
      "max                     75000.000000                            75000.000000  \n"
     ]
    }
   ],
   "source": [
    "print(df.info())\n",
    "print(df.describe())"
   ]
  },
  {
   "cell_type": "code",
   "execution_count": null,
   "metadata": {
    "collapsed": true
   },
   "outputs": [],
   "source": [
    "\n",
    "\n",
    "#create training and test datasets\n",
    "train, test = train_test_split(df, train_size = 0.7, test_size=0.3, random_state=42)\n",
    "y_train = train.copy()\n",
    "\n",
    "X_train = train.copy()\n",
    "X_train.drop(columns=['ALICE Households'], inplace=True)\n",
    "\n",
    "y_test = test.copy()\n",
    "\n",
    "X_test = test.copy()\n",
    "X_test.drop(columns=['ALICE Households'], inplace=True)"
   ]
  },
  {
   "cell_type": "code",
   "execution_count": null,
   "metadata": {},
   "outputs": [
    {
     "name": "stdout",
     "output_type": "stream",
     "text": [
      "Index(['Year', 'GEO.id2', 'GEO.display_label', 'County', 'State', 'State Abbr',\n",
      "       'Households', 'Poverty Households', 'ALICE Households',\n",
      "       'Above ALICE Households', 'ALICE Threshold - HH under 65',\n",
      "       'ALICE Threshold - HH 65 years and over',\n",
      "       'Source: American Community Survey '],\n",
      "      dtype='object')\n"
     ]
    },
    {
     "data": {
      "text/html": [
       "<div>\n",
       "<style scoped>\n",
       "    .dataframe tbody tr th:only-of-type {\n",
       "        vertical-align: middle;\n",
       "    }\n",
       "\n",
       "    .dataframe tbody tr th {\n",
       "        vertical-align: top;\n",
       "    }\n",
       "\n",
       "    .dataframe thead th {\n",
       "        text-align: right;\n",
       "    }\n",
       "</style>\n",
       "<table border=\"1\" class=\"dataframe\">\n",
       "  <thead>\n",
       "    <tr style=\"text-align: right;\">\n",
       "      <th></th>\n",
       "      <th>Year</th>\n",
       "      <th>GEO.id2</th>\n",
       "      <th>GEO.display_label</th>\n",
       "      <th>County</th>\n",
       "      <th>State</th>\n",
       "      <th>State Abbr</th>\n",
       "      <th>Households</th>\n",
       "      <th>Poverty Households</th>\n",
       "      <th>ALICE Households</th>\n",
       "      <th>Above ALICE Households</th>\n",
       "      <th>ALICE Threshold - HH under 65</th>\n",
       "      <th>ALICE Threshold - HH 65 years and over</th>\n",
       "      <th>Source: American Community Survey</th>\n",
       "    </tr>\n",
       "  </thead>\n",
       "  <tbody>\n",
       "    <tr>\n",
       "      <th>254</th>\n",
       "      <td>2014</td>\n",
       "      <td>13075</td>\n",
       "      <td>Cook County, Georgia</td>\n",
       "      <td>Cook</td>\n",
       "      <td>Georgia</td>\n",
       "      <td>GA</td>\n",
       "      <td>6255</td>\n",
       "      <td>1436</td>\n",
       "      <td>1929</td>\n",
       "      <td>2890</td>\n",
       "      <td>40000</td>\n",
       "      <td>35000</td>\n",
       "      <td>5-Year</td>\n",
       "    </tr>\n",
       "    <tr>\n",
       "      <th>812</th>\n",
       "      <td>2010</td>\n",
       "      <td>13237</td>\n",
       "      <td>Putnam County, Georgia</td>\n",
       "      <td>Putnam</td>\n",
       "      <td>Georgia</td>\n",
       "      <td>GA</td>\n",
       "      <td>8728</td>\n",
       "      <td>1308</td>\n",
       "      <td>2143</td>\n",
       "      <td>5277</td>\n",
       "      <td>30000</td>\n",
       "      <td>30000</td>\n",
       "      <td>3-Year</td>\n",
       "    </tr>\n",
       "    <tr>\n",
       "      <th>312</th>\n",
       "      <td>2018</td>\n",
       "      <td>13091</td>\n",
       "      <td>Dodge County, Georgia</td>\n",
       "      <td>Dodge</td>\n",
       "      <td>Georgia</td>\n",
       "      <td>GA</td>\n",
       "      <td>7694</td>\n",
       "      <td>1867</td>\n",
       "      <td>2531</td>\n",
       "      <td>3296</td>\n",
       "      <td>45000</td>\n",
       "      <td>35000</td>\n",
       "      <td>5-Year</td>\n",
       "    </tr>\n",
       "    <tr>\n",
       "      <th>490</th>\n",
       "      <td>2010</td>\n",
       "      <td>13143</td>\n",
       "      <td>Haralson County, Georgia</td>\n",
       "      <td>Haralson</td>\n",
       "      <td>Georgia</td>\n",
       "      <td>GA</td>\n",
       "      <td>10603</td>\n",
       "      <td>2513</td>\n",
       "      <td>2281</td>\n",
       "      <td>5809</td>\n",
       "      <td>35000</td>\n",
       "      <td>30000</td>\n",
       "      <td>3-Year</td>\n",
       "    </tr>\n",
       "    <tr>\n",
       "      <th>221</th>\n",
       "      <td>2018</td>\n",
       "      <td>13065</td>\n",
       "      <td>Clinch County, Georgia</td>\n",
       "      <td>Clinch</td>\n",
       "      <td>Georgia</td>\n",
       "      <td>GA</td>\n",
       "      <td>2502</td>\n",
       "      <td>911</td>\n",
       "      <td>691</td>\n",
       "      <td>900</td>\n",
       "      <td>45000</td>\n",
       "      <td>35000</td>\n",
       "      <td>5-Year</td>\n",
       "    </tr>\n",
       "  </tbody>\n",
       "</table>\n",
       "</div>"
      ],
      "text/plain": [
       "     Year  GEO.id2         GEO.display_label    County    State State Abbr  \\\n",
       "254  2014    13075      Cook County, Georgia      Cook  Georgia         GA   \n",
       "812  2010    13237    Putnam County, Georgia    Putnam  Georgia         GA   \n",
       "312  2018    13091     Dodge County, Georgia     Dodge  Georgia         GA   \n",
       "490  2010    13143  Haralson County, Georgia  Haralson  Georgia         GA   \n",
       "221  2018    13065    Clinch County, Georgia    Clinch  Georgia         GA   \n",
       "\n",
       "     Households  Poverty Households  ALICE Households  Above ALICE Households  \\\n",
       "254        6255                1436              1929                    2890   \n",
       "812        8728                1308              2143                    5277   \n",
       "312        7694                1867              2531                    3296   \n",
       "490       10603                2513              2281                    5809   \n",
       "221        2502                 911               691                     900   \n",
       "\n",
       "     ALICE Threshold - HH under 65  ALICE Threshold - HH 65 years and over  \\\n",
       "254                          40000                                   35000   \n",
       "812                          30000                                   30000   \n",
       "312                          45000                                   35000   \n",
       "490                          35000                                   30000   \n",
       "221                          45000                                   35000   \n",
       "\n",
       "    Source: American Community Survey   \n",
       "254                             5-Year  \n",
       "812                             3-Year  \n",
       "312                             5-Year  \n",
       "490                             3-Year  \n",
       "221                             5-Year  "
      ]
     },
     "metadata": {},
     "output_type": "display_data"
    }
   ],
   "source": [
    "print(df.columns)\n",
    "display(y_train.head())\n",
    "\n",
    "#remove columns that are irrelevant for regression\n",
    "X_train.drop(columns='State Abbr', inplace=True)\n",
    "X_train.drop(columns='GEO.display_label', inplace=True)\n",
    "X_train.drop(columns='County', inplace=True)\n",
    "X_train.drop(columns='State', inplace=True)\n",
    "X_train.drop(columns='GEO.id2', inplace=True)\n",
    "\n",
    "X_test.drop(columns='State Abbr', inplace=True)\n",
    "X_test.drop(columns='GEO.display_label', inplace=True)\n",
    "X_test.drop(columns='County', inplace=True)\n",
    "X_test.drop(columns='State', inplace=True)\n",
    "X_test.drop(columns='GEO.id2', inplace=True)\n",
    "\n",
    "y_train.drop(columns='State Abbr', inplace=True)\n",
    "y_train.drop(columns='GEO.display_label', inplace=True)\n",
    "y_train.drop(columns='County', inplace=True)\n",
    "y_train.drop(columns='State', inplace=True)\n",
    "y_train.drop(columns='GEO.id2', inplace=True)\n",
    "\n",
    "y_test.drop(columns='State Abbr', inplace=True)\n",
    "y_test.drop(columns='GEO.display_label', inplace=True)\n",
    "y_test.drop(columns='County', inplace=True)\n",
    "y_test.drop(columns='State', inplace=True)\n",
    "y_test.drop(columns='GEO.id2', inplace=True)"
   ]
  },
  {
   "cell_type": "code",
   "execution_count": null,
   "metadata": {},
   "outputs": [
    {
     "name": "stdout",
     "output_type": "stream",
     "text": [
      "['5-Year' '3-Year' '1-Year']\n"
     ]
    }
   ],
   "source": [
    "#check to see what kind of values are in this column\n",
    "print(df['Source: American Community Survey '].unique())"
   ]
  },
  {
   "cell_type": "code",
   "execution_count": null,
   "metadata": {},
   "outputs": [
    {
     "data": {
      "text/html": [
       "<div>\n",
       "<style scoped>\n",
       "    .dataframe tbody tr th:only-of-type {\n",
       "        vertical-align: middle;\n",
       "    }\n",
       "\n",
       "    .dataframe tbody tr th {\n",
       "        vertical-align: top;\n",
       "    }\n",
       "\n",
       "    .dataframe thead th {\n",
       "        text-align: right;\n",
       "    }\n",
       "</style>\n",
       "<table border=\"1\" class=\"dataframe\">\n",
       "  <thead>\n",
       "    <tr style=\"text-align: right;\">\n",
       "      <th></th>\n",
       "      <th>Year</th>\n",
       "      <th>Households</th>\n",
       "      <th>Poverty Households</th>\n",
       "      <th>ALICE Households</th>\n",
       "      <th>Above ALICE Households</th>\n",
       "      <th>ALICE Threshold - HH under 65</th>\n",
       "      <th>ALICE Threshold - HH 65 years and over</th>\n",
       "      <th>Source: American Community Survey</th>\n",
       "    </tr>\n",
       "  </thead>\n",
       "  <tbody>\n",
       "    <tr>\n",
       "      <th>254</th>\n",
       "      <td>2014</td>\n",
       "      <td>6255</td>\n",
       "      <td>1436</td>\n",
       "      <td>1929</td>\n",
       "      <td>2890</td>\n",
       "      <td>40000</td>\n",
       "      <td>35000</td>\n",
       "      <td>5-Year</td>\n",
       "    </tr>\n",
       "    <tr>\n",
       "      <th>312</th>\n",
       "      <td>2018</td>\n",
       "      <td>7694</td>\n",
       "      <td>1867</td>\n",
       "      <td>2531</td>\n",
       "      <td>3296</td>\n",
       "      <td>45000</td>\n",
       "      <td>35000</td>\n",
       "      <td>5-Year</td>\n",
       "    </tr>\n",
       "    <tr>\n",
       "      <th>221</th>\n",
       "      <td>2018</td>\n",
       "      <td>2502</td>\n",
       "      <td>911</td>\n",
       "      <td>691</td>\n",
       "      <td>900</td>\n",
       "      <td>45000</td>\n",
       "      <td>35000</td>\n",
       "      <td>5-Year</td>\n",
       "    </tr>\n",
       "    <tr>\n",
       "      <th>235</th>\n",
       "      <td>2018</td>\n",
       "      <td>14298</td>\n",
       "      <td>3217</td>\n",
       "      <td>5062</td>\n",
       "      <td>6019</td>\n",
       "      <td>50000</td>\n",
       "      <td>35000</td>\n",
       "      <td>5-Year</td>\n",
       "    </tr>\n",
       "    <tr>\n",
       "      <th>688</th>\n",
       "      <td>2014</td>\n",
       "      <td>8083</td>\n",
       "      <td>1821</td>\n",
       "      <td>2404</td>\n",
       "      <td>3858</td>\n",
       "      <td>40000</td>\n",
       "      <td>35000</td>\n",
       "      <td>5-Year</td>\n",
       "    </tr>\n",
       "    <tr>\n",
       "      <th>...</th>\n",
       "      <td>...</td>\n",
       "      <td>...</td>\n",
       "      <td>...</td>\n",
       "      <td>...</td>\n",
       "      <td>...</td>\n",
       "      <td>...</td>\n",
       "      <td>...</td>\n",
       "      <td>...</td>\n",
       "    </tr>\n",
       "    <tr>\n",
       "      <th>871</th>\n",
       "      <td>2016</td>\n",
       "      <td>3312</td>\n",
       "      <td>653</td>\n",
       "      <td>1123</td>\n",
       "      <td>1536</td>\n",
       "      <td>40000</td>\n",
       "      <td>35000</td>\n",
       "      <td>5-Year</td>\n",
       "    </tr>\n",
       "    <tr>\n",
       "      <th>87</th>\n",
       "      <td>2016</td>\n",
       "      <td>6423</td>\n",
       "      <td>1164</td>\n",
       "      <td>2479</td>\n",
       "      <td>2780</td>\n",
       "      <td>45000</td>\n",
       "      <td>35000</td>\n",
       "      <td>5-Year</td>\n",
       "    </tr>\n",
       "    <tr>\n",
       "      <th>121</th>\n",
       "      <td>2014</td>\n",
       "      <td>7781</td>\n",
       "      <td>1315</td>\n",
       "      <td>2065</td>\n",
       "      <td>4401</td>\n",
       "      <td>45000</td>\n",
       "      <td>35000</td>\n",
       "      <td>5-Year</td>\n",
       "    </tr>\n",
       "    <tr>\n",
       "      <th>1095</th>\n",
       "      <td>2016</td>\n",
       "      <td>3975</td>\n",
       "      <td>999</td>\n",
       "      <td>1178</td>\n",
       "      <td>1798</td>\n",
       "      <td>40000</td>\n",
       "      <td>35000</td>\n",
       "      <td>5-Year</td>\n",
       "    </tr>\n",
       "    <tr>\n",
       "      <th>860</th>\n",
       "      <td>2021</td>\n",
       "      <td>1600</td>\n",
       "      <td>340</td>\n",
       "      <td>417</td>\n",
       "      <td>843</td>\n",
       "      <td>50000</td>\n",
       "      <td>45000</td>\n",
       "      <td>5-Year</td>\n",
       "    </tr>\n",
       "  </tbody>\n",
       "</table>\n",
       "<p>567 rows × 8 columns</p>\n",
       "</div>"
      ],
      "text/plain": [
       "      Year  Households  Poverty Households  ALICE Households  \\\n",
       "254   2014        6255                1436              1929   \n",
       "312   2018        7694                1867              2531   \n",
       "221   2018        2502                 911               691   \n",
       "235   2018       14298                3217              5062   \n",
       "688   2014        8083                1821              2404   \n",
       "...    ...         ...                 ...               ...   \n",
       "871   2016        3312                 653              1123   \n",
       "87    2016        6423                1164              2479   \n",
       "121   2014        7781                1315              2065   \n",
       "1095  2016        3975                 999              1178   \n",
       "860   2021        1600                 340               417   \n",
       "\n",
       "      Above ALICE Households  ALICE Threshold - HH under 65  \\\n",
       "254                     2890                          40000   \n",
       "312                     3296                          45000   \n",
       "221                      900                          45000   \n",
       "235                     6019                          50000   \n",
       "688                     3858                          40000   \n",
       "...                      ...                            ...   \n",
       "871                     1536                          40000   \n",
       "87                      2780                          45000   \n",
       "121                     4401                          45000   \n",
       "1095                    1798                          40000   \n",
       "860                      843                          50000   \n",
       "\n",
       "      ALICE Threshold - HH 65 years and over  \\\n",
       "254                                    35000   \n",
       "312                                    35000   \n",
       "221                                    35000   \n",
       "235                                    35000   \n",
       "688                                    35000   \n",
       "...                                      ...   \n",
       "871                                    35000   \n",
       "87                                     35000   \n",
       "121                                    35000   \n",
       "1095                                   35000   \n",
       "860                                    45000   \n",
       "\n",
       "     Source: American Community Survey   \n",
       "254                              5-Year  \n",
       "312                              5-Year  \n",
       "221                              5-Year  \n",
       "235                              5-Year  \n",
       "688                              5-Year  \n",
       "...                                 ...  \n",
       "871                              5-Year  \n",
       "87                               5-Year  \n",
       "121                              5-Year  \n",
       "1095                             5-Year  \n",
       "860                              5-Year  \n",
       "\n",
       "[567 rows x 8 columns]"
      ]
     },
     "metadata": {},
     "output_type": "display_data"
    }
   ],
   "source": [
    "#clean up the datasets so that we only have data that are surveyed for at least 5 years\n",
    "X_train_year = X_train[X_train['Source: American Community Survey '] == '5-Year']\n",
    "y_train_year = y_train[y_train['Source: American Community Survey '] == '5-Year']\n",
    "\n",
    "X_test_year = X_test[X_test['Source: American Community Survey '] == '5-Year']\n",
    "y_test_year = y_test[y_test['Source: American Community Survey '] == '5-Year']\n",
    "\n",
    "display(y_train_year)"
   ]
  },
  {
   "cell_type": "code",
   "execution_count": null,
   "metadata": {},
   "outputs": [
    {
     "data": {
      "image/png": "[encoded data removed]",
      "text/plain": [
       "<Figure size 576x216 with 1 Axes>"
      ]
     },
     "metadata": {
      "needs_background": "light"
     },
     "output_type": "display_data"
    },
    {
     "data": {
      "image/png": "[encoded data removed]",
      "text/plain": [
       "<Figure size 576x216 with 1 Axes>"
      ]
     },
     "metadata": {
      "needs_background": "light"
     },
     "output_type": "display_data"
    },
    {
     "data": {
      "image/png": "[encoded data removed]",
      "text/plain": [
       "<Figure size 576x216 with 1 Axes>"
      ]
     },
     "metadata": {
      "needs_background": "light"
     },
     "output_type": "display_data"
    },
    {
     "data": {
      "image/png": "[encoded data removed]",
      "text/plain": [
       "<Figure size 576x216 with 1 Axes>"
      ]
     },
     "metadata": {
      "needs_background": "light"
     },
     "output_type": "display_data"
    },
    {
     "data": {
      "image/png": "[encoded data removed]",
      "text/plain": [
       "<Figure size 576x216 with 1 Axes>"
      ]
     },
     "metadata": {
      "needs_background": "light"
     },
     "output_type": "display_data"
    },
    {
     "data": {
      "image/png": "[encoded data removed]",
      "text/plain": [
       "<Figure size 576x216 with 1 Axes>"
      ]
     },
     "metadata": {
      "needs_background": "light"
     },
     "output_type": "display_data"
    },
    {
     "data": {
      "image/png": "[encoded data removed]",
      "text/plain": [
       "<Figure size 576x216 with 1 Axes>"
      ]
     },
     "metadata": {
      "needs_background": "light"
     },
     "output_type": "display_data"
    }
   ],
   "source": [
    "\n",
    "#check for any missing values or outliers\n",
    "df.isna().sum()\n",
    "\n",
    "numerical_variables = ['Year', 'Households', 'Poverty Households', 'ALICE Households',\n",
    "       'Above ALICE Households', 'ALICE Threshold - HH under 65',\n",
    "       'ALICE Threshold - HH 65 years and over',]\n",
    "for variable in numerical_variables:\n",
    "    plt.figure(figsize=(8,3))\n",
    "    plt.title(variable)\n",
    "    plt.hist(df[variable])\n",
    "    plt.show()"
   ]
  },
  {
   "cell_type": "code",
   "execution_count": null,
   "metadata": {},
   "outputs": [
    {
     "name": "stderr",
     "output_type": "stream",
     "text": [
      "<ipython-input-9-84083573de9c>:5: FutureWarning: Automatic reindexing on DataFrame vs Series comparisons is deprecated and will raise ValueError in a future version. Do `left, right = left.align(right, axis=1, copy=False)` before e.g. `left == right`\n",
      "  outliers = df[(df < (Q1 - 1.5 * IQR)) | (df > (Q3 + 1.5 * IQR))]\n",
      "<ipython-input-9-84083573de9c>:10: SettingWithCopyWarning: \n",
      "A value is trying to be set on a copy of a slice from a DataFrame\n",
      "\n",
      "See the caveats in the documentation: https://pandas.pydata.org/pandas-docs/stable/user_guide/indexing.html#returning-a-view-versus-a-copy\n",
      "  X_train_outliers.drop(columns='Source: American Community Survey ', inplace=True)\n",
      "<ipython-input-9-84083573de9c>:11: SettingWithCopyWarning: \n",
      "A value is trying to be set on a copy of a slice from a DataFrame\n",
      "\n",
      "See the caveats in the documentation: https://pandas.pydata.org/pandas-docs/stable/user_guide/indexing.html#returning-a-view-versus-a-copy\n",
      "  X_test_outliers.drop(columns='Source: American Community Survey ', inplace=True)\n",
      "<ipython-input-9-84083573de9c>:15: SettingWithCopyWarning: \n",
      "A value is trying to be set on a copy of a slice from a DataFrame\n",
      "\n",
      "See the caveats in the documentation: https://pandas.pydata.org/pandas-docs/stable/user_guide/indexing.html#returning-a-view-versus-a-copy\n",
      "  y_train_outliers.drop(columns='Source: American Community Survey ', inplace=True)\n",
      "<ipython-input-9-84083573de9c>:16: SettingWithCopyWarning: \n",
      "A value is trying to be set on a copy of a slice from a DataFrame\n",
      "\n",
      "See the caveats in the documentation: https://pandas.pydata.org/pandas-docs/stable/user_guide/indexing.html#returning-a-view-versus-a-copy\n",
      "  y_test_outliers.drop(columns='Source: American Community Survey ', inplace=True)\n"
     ]
    }
   ],
   "source": [
    "#use interquartile range to remove outliers from dataset\n",
    "Q1 = df.quantile(0.25)\n",
    "Q3 = df.quantile(0.75)\n",
    "IQR = Q3 - Q1\n",
    "outliers = df[(df < (Q1 - 1.5 * IQR)) | (df > (Q3 + 1.5 * IQR))]\n",
    "outliers = outliers.dropna(how='all')\n",
    "\n",
    "X_train_outliers = X_train_year[~X_train_year.index.isin(outliers.index)]\n",
    "X_test_outliers = X_test_year[~X_test_year.index.isin(outliers.index)]\n",
    "X_train_outliers.drop(columns='Source: American Community Survey ', inplace=True)\n",
    "X_test_outliers.drop(columns='Source: American Community Survey ', inplace=True)\n",
    "\n",
    "y_train_outliers = y_train_year[~X_train_year.index.isin(outliers.index)]\n",
    "y_test_outliers = y_test_year[~X_test_year.index.isin(outliers.index)]\n",
    "y_train_outliers.drop(columns='Source: American Community Survey ', inplace=True)\n",
    "y_test_outliers.drop(columns='Source: American Community Survey ', inplace=True)"
   ]
  },
  {
   "cell_type": "code",
   "execution_count": null,
   "metadata": {},
   "outputs": [
    {
     "name": "stdout",
     "output_type": "stream",
     "text": [
      "0.4337028691234272\n"
     ]
    },
    {
     "data": {
      "text/plain": [
       "[('Year', False, 6),\n",
       " ('Households', False, 3),\n",
       " ('Poverty Households', True, 1),\n",
       " ('Above ALICE Households', False, 2),\n",
       " ('ALICE Threshold - HH under 65', False, 5),\n",
       " ('ALICE Threshold - HH 65 years and over', False, 4)]"
      ]
     },
     "metadata": {},
     "output_type": "display_data"
    },
    {
     "name": "stdout",
     "output_type": "stream",
     "text": [
      "0.6029052590323021\n"
     ]
    },
    {
     "data": {
      "text/plain": [
       "[('Year', False, 5),\n",
       " ('Households', False, 2),\n",
       " ('Poverty Households', True, 1),\n",
       " ('Above ALICE Households', True, 1),\n",
       " ('ALICE Threshold - HH under 65', False, 4),\n",
       " ('ALICE Threshold - HH 65 years and over', False, 3)]"
      ]
     },
     "metadata": {},
     "output_type": "display_data"
    },
    {
     "name": "stdout",
     "output_type": "stream",
     "text": [
      "0.6448220670952126\n"
     ]
    },
    {
     "data": {
      "text/plain": [
       "[('Year', False, 4),\n",
       " ('Households', True, 1),\n",
       " ('Poverty Households', True, 1),\n",
       " ('Above ALICE Households', True, 1),\n",
       " ('ALICE Threshold - HH under 65', False, 3),\n",
       " ('ALICE Threshold - HH 65 years and over', False, 2)]"
      ]
     },
     "metadata": {},
     "output_type": "display_data"
    },
    {
     "name": "stdout",
     "output_type": "stream",
     "text": [
      "0.86946921155374\n"
     ]
    },
    {
     "data": {
      "text/plain": [
       "[('Year', False, 3),\n",
       " ('Households', True, 1),\n",
       " ('Poverty Households', True, 1),\n",
       " ('Above ALICE Households', True, 1),\n",
       " ('ALICE Threshold - HH under 65', False, 2),\n",
       " ('ALICE Threshold - HH 65 years and over', True, 1)]"
      ]
     },
     "metadata": {},
     "output_type": "display_data"
    },
    {
     "name": "stdout",
     "output_type": "stream",
     "text": [
      "0.9430057839995761\n"
     ]
    },
    {
     "data": {
      "text/plain": [
       "[('Year', False, 2),\n",
       " ('Households', True, 1),\n",
       " ('Poverty Households', True, 1),\n",
       " ('Above ALICE Households', True, 1),\n",
       " ('ALICE Threshold - HH under 65', True, 1),\n",
       " ('ALICE Threshold - HH 65 years and over', True, 1)]"
      ]
     },
     "metadata": {},
     "output_type": "display_data"
    },
    {
     "name": "stdout",
     "output_type": "stream",
     "text": [
      "1.0\n"
     ]
    },
    {
     "data": {
      "text/plain": [
       "[('Year', True, 1),\n",
       " ('Households', True, 1),\n",
       " ('Poverty Households', True, 1),\n",
       " ('Above ALICE Households', True, 1),\n",
       " ('ALICE Threshold - HH under 65', True, 1),\n",
       " ('ALICE Threshold - HH 65 years and over', True, 1)]"
      ]
     },
     "metadata": {},
     "output_type": "display_data"
    },
    {
     "name": "stdout",
     "output_type": "stream",
     "text": [
      "1.0\n"
     ]
    },
    {
     "data": {
      "text/plain": [
       "[('Year', True, 1),\n",
       " ('Households', True, 1),\n",
       " ('Poverty Households', True, 1),\n",
       " ('Above ALICE Households', True, 1),\n",
       " ('ALICE Threshold - HH under 65', True, 1),\n",
       " ('ALICE Threshold - HH 65 years and over', True, 1)]"
      ]
     },
     "metadata": {},
     "output_type": "display_data"
    },
    {
     "name": "stdout",
     "output_type": "stream",
     "text": [
      "1.0\n"
     ]
    },
    {
     "data": {
      "text/plain": [
       "[('Year', True, 1),\n",
       " ('Households', True, 1),\n",
       " ('Poverty Households', True, 1),\n",
       " ('Above ALICE Households', True, 1),\n",
       " ('ALICE Threshold - HH under 65', True, 1),\n",
       " ('ALICE Threshold - HH 65 years and over', True, 1)]"
      ]
     },
     "metadata": {},
     "output_type": "display_data"
    },
    {
     "name": "stdout",
     "output_type": "stream",
     "text": [
      "1.0\n"
     ]
    },
    {
     "data": {
      "text/plain": [
       "[('Year', True, 1),\n",
       " ('Households', True, 1),\n",
       " ('Poverty Households', True, 1),\n",
       " ('Above ALICE Households', True, 1),\n",
       " ('ALICE Threshold - HH under 65', True, 1),\n",
       " ('ALICE Threshold - HH 65 years and over', True, 1)]"
      ]
     },
     "metadata": {},
     "output_type": "display_data"
    },
    {
     "name": "stdout",
     "output_type": "stream",
     "text": [
      "1.0\n"
     ]
    },
    {
     "data": {
      "text/plain": [
       "[('Year', True, 1),\n",
       " ('Households', True, 1),\n",
       " ('Poverty Households', True, 1),\n",
       " ('Above ALICE Households', True, 1),\n",
       " ('ALICE Threshold - HH under 65', True, 1),\n",
       " ('ALICE Threshold - HH 65 years and over', True, 1)]"
      ]
     },
     "metadata": {},
     "output_type": "display_data"
    },
    {
     "name": "stdout",
     "output_type": "stream",
     "text": [
      "1.0\n"
     ]
    },
    {
     "data": {
      "text/plain": [
       "[('Year', True, 1),\n",
       " ('Households', True, 1),\n",
       " ('Poverty Households', True, 1),\n",
       " ('Above ALICE Households', True, 1),\n",
       " ('ALICE Threshold - HH under 65', True, 1),\n",
       " ('ALICE Threshold - HH 65 years and over', True, 1)]"
      ]
     },
     "metadata": {},
     "output_type": "display_data"
    },
    {
     "name": "stdout",
     "output_type": "stream",
     "text": [
      "1.0\n"
     ]
    },
    {
     "data": {
      "text/plain": [
       "[('Year', True, 1),\n",
       " ('Households', True, 1),\n",
       " ('Poverty Households', True, 1),\n",
       " ('Above ALICE Households', True, 1),\n",
       " ('ALICE Threshold - HH under 65', True, 1),\n",
       " ('ALICE Threshold - HH 65 years and over', True, 1)]"
      ]
     },
     "metadata": {},
     "output_type": "display_data"
    },
    {
     "name": "stdout",
     "output_type": "stream",
     "text": [
      "1.0\n"
     ]
    },
    {
     "data": {
      "text/plain": [
       "[('Year', True, 1),\n",
       " ('Households', True, 1),\n",
       " ('Poverty Households', True, 1),\n",
       " ('Above ALICE Households', True, 1),\n",
       " ('ALICE Threshold - HH under 65', True, 1),\n",
       " ('ALICE Threshold - HH 65 years and over', True, 1)]"
      ]
     },
     "metadata": {},
     "output_type": "display_data"
    }
   ],
   "source": [
    "#loop through different number of features and choose the one with the best r-squared value in order to select the \n",
    "#most relevant features\n",
    "col_len = (len(df.columns))\n",
    "\n",
    "lm = LinearRegression()\n",
    "\n",
    "for i in range(1, col_len+1):\n",
    "    rfe = RFE(lm, n_features_to_select=i)\n",
    "    rfe = rfe.fit(X_train_outliers, y_train_outliers)\n",
    "    \n",
    "    y_predicted = rfe.predict(X_test_outliers)\n",
    "\n",
    "    r2 = sklearn.metrics.r2_score(y_test_outliers, y_predicted)\n",
    "    print(r2)\n",
    "    display(list(zip(X_train.columns,rfe.support_,rfe.ranking_)))"
   ]
  },
  {
   "cell_type": "code",
   "execution_count": null,
   "metadata": {
    "collapsed": true
   },
   "outputs": [],
   "source": [
    "columns_to_keep = ['Poverty Households', 'Households', 'Above ALICE Households']\n",
    "df_final.drop(columns=df.columns.difference(columns_to_keep), inplace=True)\n",
    "X_train_cleaned = X_train_outliers.drop(columns=X_train_outliers.columns.difference(columns_to_keep))\n",
    "X_test_cleaned = X_test_outliers.drop(columns=X_test_outliers.columns.difference(columns_to_keep))\n",
    "\n",
    "y_train_cleaned = y_train_outliers.pop('ALICE Households')\n",
    "y_test_cleaned = y_test_outliers.pop('ALICE Households')"
   ]
  },
  {
   "cell_type": "code",
   "execution_count": null,
   "metadata": {},
   "outputs": [
    {
     "data": {
      "text/plain": [
       "array([1570., 1955., 1953., ..., 2339., 2462., 2726.])"
      ]
     },
     "metadata": {},
     "output_type": "display_data"
    }
   ],
   "source": [
    "#we are selecting only 3 features since they have the best\n",
    "#to predict the target variable without overfitting the model. \n",
    "rfe = RFE(lm, n_features_to_select=3)\n",
    "rfe = rfe.fit(X_train_cleaned, y_train_cleaned)\n",
    "\n",
    "y_predicted = rfe.predict(df_final)\n",
    "display(y_predicted)"
   ]
  },
  {
   "cell_type": "code",
   "execution_count": null,
   "metadata": {},
   "outputs": [
    {
     "data": {
      "text/html": [
       "<div>\n",
       "<style scoped>\n",
       "    .dataframe tbody tr th:only-of-type {\n",
       "        vertical-align: middle;\n",
       "    }\n",
       "\n",
       "    .dataframe tbody tr th {\n",
       "        vertical-align: top;\n",
       "    }\n",
       "\n",
       "    .dataframe thead th {\n",
       "        text-align: right;\n",
       "    }\n",
       "</style>\n",
       "<table border=\"1\" class=\"dataframe\">\n",
       "  <thead>\n",
       "    <tr style=\"text-align: right;\">\n",
       "      <th></th>\n",
       "      <th>Year</th>\n",
       "      <th>GEO.id2</th>\n",
       "      <th>GEO.display_label</th>\n",
       "      <th>County</th>\n",
       "      <th>State</th>\n",
       "      <th>State Abbr</th>\n",
       "      <th>Households</th>\n",
       "      <th>Poverty Households</th>\n",
       "      <th>ALICE Households</th>\n",
       "      <th>Above ALICE Households</th>\n",
       "      <th>ALICE Threshold - HH under 65</th>\n",
       "      <th>ALICE Threshold - HH 65 years and over</th>\n",
       "      <th>Source: American Community Survey</th>\n",
       "      <th>Predicted</th>\n",
       "    </tr>\n",
       "  </thead>\n",
       "  <tbody>\n",
       "    <tr>\n",
       "      <th>0</th>\n",
       "      <td>2010</td>\n",
       "      <td>13001</td>\n",
       "      <td>Appling County, Georgia</td>\n",
       "      <td>Appling</td>\n",
       "      <td>Georgia</td>\n",
       "      <td>GA</td>\n",
       "      <td>7145</td>\n",
       "      <td>1328</td>\n",
       "      <td>1570</td>\n",
       "      <td>4247</td>\n",
       "      <td>30000</td>\n",
       "      <td>25000</td>\n",
       "      <td>5-Year</td>\n",
       "      <td>1570.0</td>\n",
       "    </tr>\n",
       "    <tr>\n",
       "      <th>1</th>\n",
       "      <td>2012</td>\n",
       "      <td>13001</td>\n",
       "      <td>Appling County, Georgia</td>\n",
       "      <td>Appling</td>\n",
       "      <td>Georgia</td>\n",
       "      <td>GA</td>\n",
       "      <td>7047</td>\n",
       "      <td>1298</td>\n",
       "      <td>1955</td>\n",
       "      <td>3794</td>\n",
       "      <td>35000</td>\n",
       "      <td>30000</td>\n",
       "      <td>5-Year</td>\n",
       "      <td>1955.0</td>\n",
       "    </tr>\n",
       "    <tr>\n",
       "      <th>2</th>\n",
       "      <td>2014</td>\n",
       "      <td>13001</td>\n",
       "      <td>Appling County, Georgia</td>\n",
       "      <td>Appling</td>\n",
       "      <td>Georgia</td>\n",
       "      <td>GA</td>\n",
       "      <td>6878</td>\n",
       "      <td>1457</td>\n",
       "      <td>1953</td>\n",
       "      <td>3468</td>\n",
       "      <td>40000</td>\n",
       "      <td>35000</td>\n",
       "      <td>5-Year</td>\n",
       "      <td>1953.0</td>\n",
       "    </tr>\n",
       "    <tr>\n",
       "      <th>3</th>\n",
       "      <td>2016</td>\n",
       "      <td>13001</td>\n",
       "      <td>Appling County, Georgia</td>\n",
       "      <td>Appling</td>\n",
       "      <td>Georgia</td>\n",
       "      <td>GA</td>\n",
       "      <td>6711</td>\n",
       "      <td>1393</td>\n",
       "      <td>2024</td>\n",
       "      <td>3294</td>\n",
       "      <td>40000</td>\n",
       "      <td>35000</td>\n",
       "      <td>5-Year</td>\n",
       "      <td>2024.0</td>\n",
       "    </tr>\n",
       "    <tr>\n",
       "      <th>4</th>\n",
       "      <td>2018</td>\n",
       "      <td>13001</td>\n",
       "      <td>Appling County, Georgia</td>\n",
       "      <td>Appling</td>\n",
       "      <td>Georgia</td>\n",
       "      <td>GA</td>\n",
       "      <td>6682</td>\n",
       "      <td>1478</td>\n",
       "      <td>1962</td>\n",
       "      <td>3242</td>\n",
       "      <td>45000</td>\n",
       "      <td>35000</td>\n",
       "      <td>5-Year</td>\n",
       "      <td>1962.0</td>\n",
       "    </tr>\n",
       "  </tbody>\n",
       "</table>\n",
       "</div>"
      ],
      "text/plain": [
       "   Year  GEO.id2        GEO.display_label   County    State State Abbr  \\\n",
       "0  2010    13001  Appling County, Georgia  Appling  Georgia         GA   \n",
       "1  2012    13001  Appling County, Georgia  Appling  Georgia         GA   \n",
       "2  2014    13001  Appling County, Georgia  Appling  Georgia         GA   \n",
       "3  2016    13001  Appling County, Georgia  Appling  Georgia         GA   \n",
       "4  2018    13001  Appling County, Georgia  Appling  Georgia         GA   \n",
       "\n",
       "   Households  Poverty Households  ALICE Households  Above ALICE Households  \\\n",
       "0        7145                1328              1570                    4247   \n",
       "1        7047                1298              1955                    3794   \n",
       "2        6878                1457              1953                    3468   \n",
       "3        6711                1393              2024                    3294   \n",
       "4        6682                1478              1962                    3242   \n",
       "\n",
       "   ALICE Threshold - HH under 65  ALICE Threshold - HH 65 years and over  \\\n",
       "0                          30000                                   25000   \n",
       "1                          35000                                   30000   \n",
       "2                          40000                                   35000   \n",
       "3                          40000                                   35000   \n",
       "4                          45000                                   35000   \n",
       "\n",
       "  Source: American Community Survey   Predicted  \n",
       "0                             5-Year     1570.0  \n",
       "1                             5-Year     1955.0  \n",
       "2                             5-Year     1953.0  \n",
       "3                             5-Year     2024.0  \n",
       "4                             5-Year     1962.0  "
      ]
     },
     "metadata": {},
     "output_type": "display_data"
    }
   ],
   "source": [
    "original['Predicted'] = y_predicted\n",
    "display(original.head())"
   ]
  },
  {
   "cell_type": "code",
   "execution_count": null,
   "metadata": {},
   "outputs": [
    {
     "name": "stdout",
     "output_type": "stream",
     "text": [
      "Total 'ALICE Households': 1113\n",
      "Total occurrences where 'Predicted' > 'ALICE Households': 425\n"
     ]
    }
   ],
   "source": [
    "total = (original['Predicted'] > original['ALICE Households']).sum()\n",
    "\n",
    "print(\"Total 'ALICE Households':\", len(original['ALICE Households']))\n",
    "print(\"Total occurrences where 'Predicted' > 'ALICE Households':\", total)"
   ]
  },
  {
   "cell_type": "code",
   "execution_count": null,
   "metadata": {},
   "outputs": [
    {
     "name": "stdout",
     "output_type": "stream",
     "text": [
      "[2010 2012 2014 2016 2018 2019 2021]\n"
     ]
    }
   ],
   "source": [
    "print(df['Year'].unique())"
   ]
  },
  {
   "cell_type": "code",
   "execution_count": null,
   "metadata": {},
   "outputs": [
    {
     "data": {
      "image/png": "[encoded data removed]",
      "text/plain": [
       "<Figure size 2592x1152 with 6 Axes>"
      ]
     },
     "metadata": {},
     "output_type": "display_data"
    }
   ],
   "source": [
    "#pie chart for the past 9 years\n",
    "df_2021 = df[df['Year'] == 2021]\n",
    "df_2018 = df[df['Year'] == 2018]\n",
    "df_2019 = df[df['Year'] == 2019]\n",
    "df_2016 = df[df['Year'] == 2016]\n",
    "df_2014 = df[df['Year'] == 2014]\n",
    "df_2012 = df[df['Year'] == 2012]\n",
    "df_2022 = original[original['Year'] == 2021]\n",
    "\n",
    "\n",
    "total_households_2021 = df_2021['Households'].sum()\n",
    "total_poverty_2021 = df_2021['Poverty Households'].sum()\n",
    "total_above_2021 = df_2021['Above ALICE Households'].sum()\n",
    "total_ALICE_2021 = df_2021['ALICE Households'].sum()\n",
    "\n",
    "total_households_2018 = df_2018['Households'].sum()\n",
    "total_poverty_2018 = df_2018['Poverty Households'].sum()\n",
    "total_above_2018 = df_2018['Above ALICE Households'].sum()\n",
    "total_ALICE_2018 = df_2018['ALICE Households'].sum()\n",
    "\n",
    "total_households_2019 = df_2019['Households'].sum()\n",
    "total_poverty_2019 = df_2019['Poverty Households'].sum()\n",
    "total_above_2019 = df_2019['Above ALICE Households'].sum()\n",
    "total_ALICE_2019 = df_2019['ALICE Households'].sum()\n",
    "\n",
    "total_households_2016 = df_2016['Households'].sum()\n",
    "total_poverty_2016 = df_2016['Poverty Households'].sum()\n",
    "total_above_2016 = df_2016['Above ALICE Households'].sum()\n",
    "total_ALICE_2016 = df_2016['ALICE Households'].sum()\n",
    "\n",
    "total_households_2014 = df_2014['Households'].sum()\n",
    "total_poverty_2014 = df_2014['Poverty Households'].sum()\n",
    "total_above_2014 = df_2014['Above ALICE Households'].sum()\n",
    "total_ALICE_2014 = df_2014['ALICE Households'].sum()\n",
    "\n",
    "total_households_2012 = df_2012['Households'].sum()\n",
    "total_poverty_2012 = df_2012['Poverty Households'].sum()\n",
    "total_above_2012 = df_2012['Above ALICE Households'].sum()\n",
    "total_ALICE_2012 = df_2012['ALICE Households'].sum()\n",
    "\n",
    "labels = ['Poverty', 'Above ALICE', 'ALICE']\n",
    "sizes_1 = [total_poverty_2012, total_above_2012, total_ALICE_2012]\n",
    "sizes_2 = [total_poverty_2014, total_above_2014, total_ALICE_2014]\n",
    "sizes_3 = [total_poverty_2016, total_above_2016, total_ALICE_2016]\n",
    "sizes_4 = [total_poverty_2018, total_above_2018, total_ALICE_2018]\n",
    "sizes_5 = [total_poverty_2019, total_above_2019, total_ALICE_2019]\n",
    "sizes_6 = [total_poverty_2021, total_above_2021, total_ALICE_2021]\n",
    "\n",
    "#create subplots18,8\n",
    "fig, axs = plt.subplots(1, 6, figsize=(36, 16))  # 1 row, 6 columns\n",
    "\n",
    "#plot first pie chart\n",
    "axs[0].pie(sizes_1, labels=labels, autopct='%1.1f%%', startangle=90, textprops={'fontsize': 28})\n",
    "axs[0].set_title('2012', fontsize=28)\n",
    "\n",
    "#plot second pie chart\n",
    "axs[1].pie(sizes_2, labels=labels, autopct='%1.1f%%', startangle=90, textprops={'fontsize': 28})\n",
    "axs[1].set_title('2014', fontsize=28)\n",
    "\n",
    "#plot third pie chart\n",
    "axs[2].pie(sizes_3, labels=labels, autopct='%1.1f%%', startangle=90, textprops={'fontsize': 28})\n",
    "axs[2].set_title('2016', fontsize=28)\n",
    "\n",
    "#plot fourth pie chart\n",
    "axs[3].pie(sizes_4, labels=labels, autopct='%1.1f%%', startangle=90, textprops={'fontsize': 28})\n",
    "axs[3].set_title('2018', fontsize=28)\n",
    "\n",
    "#plot fifth pie chart\n",
    "axs[4].pie(sizes_5, labels=labels, autopct='%1.1f%%', startangle=90, textprops={'fontsize': 28})\n",
    "axs[4].set_title('2019', fontsize=28)\n",
    "\n",
    "#plot sixth pie chart\n",
    "axs[5].pie(sizes_6, labels=labels, autopct='%1.1f%%', startangle=90, textprops={'fontsize': 28})\n",
    "axs[5].set_title('2021', fontsize=28)\n",
    "\n",
    "\n",
    "plt.tight_layout()\n",
    "plt.show()"
   ]
  },
  {
   "cell_type": "code",
   "execution_count": null,
   "metadata": {},
   "outputs": [
    {
     "name": "stdout",
     "output_type": "stream",
     "text": [
      "1.746260386960794e-14\n"
     ]
    }
   ],
   "source": [
    "total_ALICE_2022_predicted = df_2022['Predicted'].sum()\n",
    "\n",
    "percentage_increase = ((total_ALICE_2022_predicted - total_ALICE_2021) / total_ALICE_2021) * 100\n",
    "print(percentage_increase)"
   ]
  },
  {
   "cell_type": "markdown",
   "metadata": {},
   "source": [
    "### Summary of Findings"
   ]
  },
  {
   "cell_type": "markdown",
   "metadata": {},
   "source": [
    "To summarize, the analysis in the dataset for my questions led to the following discoveries for each:\n",
    "\n",
    "1. From 2012 to 2016, households in the ALICE income level have remained the same. Then in the following years, the amount of households entering the ALICE income levels increased by a moderate amount. This could be due to the policies and programs put in place by the government during those times.\n",
    "\n",
    "2. In Georgia, around 30% of households were in the ALICE income level in the past 9 years. Although households in the ALICE income range were relatively similar over the years, households in poverty have dropped consistently. This could mean that people are able to escape the federal poverty level but still are unable to afford life's basic necessities. Government policies and programs appear to have helped households in poverty but will need more innovative policies to help households in the ALICE income level.\n",
    "\n",
    "3. The peak covid era happened from 2020-2021. We don't have data but we do have it for 2021. It looks like covid did not really affect household income much. It would be reasonable to assume that future huge events that cause worldwide shutdowns would not affect households drastically. After predicting the amount of households in the ALICE income level for 2022, there is almost no change. Based on the ALICE income level in 2018 and 2021, the predicted ALICE income level could be possible."
   ]
  },
  {
   "cell_type": "markdown",
   "metadata": {},
   "source": [
    "### Potential Problems\n"
   ]
  },
  {
   "cell_type": "markdown",
   "metadata": {},
   "source": [
    "Some potential problems with this analysis could be that the model could be affected by outside data that we would not have access to. For example, we would not be able to predict what policies or programs would be put in place in the future. This could change the income levels of households."
   ]
  }
 ],
 "metadata": {
  "kernelspec": {
   "display_name": "Python 3",
   "language": "python",
   "name": "python3"
  },
  "language_info": {
   "codemirror_mode": {
    "name": "ipython",
    "version": 3
   },
   "file_extension": ".py",
   "mimetype": "text/x-python",
   "name": "python",
   "nbconvert_exporter": "python",
   "pygments_lexer": "ipython3",
   "version": "3.10.10"
  }
 },
 "nbformat": 4,
 "nbformat_minor": 2
}
